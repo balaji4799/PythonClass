{
 "cells": [
  {
   "cell_type": "code",
   "execution_count": 1,
   "metadata": {},
   "outputs": [],
   "source": [
    "import numpy as np"
   ]
  },
  {
   "cell_type": "code",
   "execution_count": 2,
   "metadata": {},
   "outputs": [],
   "source": [
    "from numpy.random import randn"
   ]
  },
  {
   "cell_type": "code",
   "execution_count": 12,
   "metadata": {},
   "outputs": [
    {
     "data": {
      "text/plain": [
       "-0.019383449972893447"
      ]
     },
     "execution_count": 12,
     "metadata": {},
     "output_type": "execute_result"
    }
   ],
   "source": [
    "randn()"
   ]
  },
  {
   "cell_type": "code",
   "execution_count": 27,
   "metadata": {},
   "outputs": [
    {
     "name": "stdout",
     "output_type": "stream",
     "text": [
      "-2.05490528341\n",
      "None\n"
     ]
    }
   ],
   "source": [
    "answer=None\n",
    "x=randn()\n",
    "if x>1:\n",
    "    answer=\"Greater than 1\"\n",
    "print(x)\n",
    "print(answer)"
   ]
  },
  {
   "cell_type": "code",
   "execution_count": 41,
   "metadata": {},
   "outputs": [
    {
     "name": "stdout",
     "output_type": "stream",
     "text": [
      "0.14070890048\n",
      "less than 1\n"
     ]
    }
   ],
   "source": [
    "answer=None\n",
    "x=randn()\n",
    "if x>1:\n",
    "    answer=\"Greater than 1\"\n",
    "else:\n",
    "    answer=\"less than 1\"\n",
    "print(x)\n",
    "print(answer)"
   ]
  },
  {
   "cell_type": "code",
   "execution_count": 22,
   "metadata": {},
   "outputs": [
    {
     "name": "stdout",
     "output_type": "stream",
     "text": [
      "-1.72039177253\n",
      "less than 1\n"
     ]
    }
   ],
   "source": [
    "#nested statements\n",
    "answer=None\n",
    "x=randn()\n",
    "if x>1:\n",
    "    answer=\"Greater than 1\"\n",
    "else:\n",
    "    if x>-1:\n",
    "        answer=\"less than 1 greater than -1\"\n",
    "    else:\n",
    "        answer=\"less than 1\"\n",
    "print(x)\n",
    "print(answer)"
   ]
  },
  {
   "cell_type": "code",
   "execution_count": 26,
   "metadata": {},
   "outputs": [
    {
     "name": "stdout",
     "output_type": "stream",
     "text": [
      "0.184929715797\n",
      "less than 1 greater than -1\n"
     ]
    }
   ],
   "source": [
    "#chained statements\n",
    "answer=None\n",
    "x=randn()\n",
    "if x>1:\n",
    "    answer=\"Greater than 1\"\n",
    "elif x>-1:\n",
    "    answer=\"less than 1 greater than -1\"\n",
    "else:\n",
    "    answer=\"less than 1\"\n",
    "print(x)\n",
    "print(answer)"
   ]
  }
 ],
 "metadata": {
  "kernelspec": {
   "display_name": "Python 2",
   "language": "python",
   "name": "python2"
  },
  "language_info": {
   "codemirror_mode": {
    "name": "ipython",
    "version": 2
   },
   "file_extension": ".py",
   "mimetype": "text/x-python",
   "name": "python",
   "nbconvert_exporter": "python",
   "pygments_lexer": "ipython2",
   "version": "2.7.15"
  }
 },
 "nbformat": 4,
 "nbformat_minor": 2
}
