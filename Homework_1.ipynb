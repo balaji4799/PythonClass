{
 "cells": [
  {
   "cell_type": "code",
   "execution_count": 27,
   "metadata": {},
   "outputs": [
    {
     "name": "stdout",
     "output_type": "stream",
     "text": [
      "In between -1 and 1 0.6725\n",
      "less than minus one 0.1669\n",
      "Greater than one 0.1606\n",
      "less than minus two 0.0\n",
      "Greater than two 0.0\n",
      "less than minus three 0.0\n",
      "Greater than three 0.0\n",
      "9999\n"
     ]
    }
   ],
   "source": [
    "import numpy as np\n",
    "from numpy.random import randn\n",
    "TotalNumber=10000\n",
    "Betw=0\n",
    "LsThMiOne=0\n",
    "GrThOne=0\n",
    "GrThTwo=0\n",
    "LsThMiTwo=0\n",
    "GrThThree=0\n",
    "LsThMiThree=0\n",
    "for i in range(TotalNumber):\n",
    "    a= randn()\n",
    "    if a<1 and a>-1:\n",
    "        Betw=Betw+1\n",
    "    elif a<-1:\n",
    "        LsThMiOne=LsThMiOne+1\n",
    "    elif a>1:\n",
    "        GrThOne=GrThOne+1\n",
    "    elif a>2:\n",
    "        GrThTwo=GrThTwo+1\n",
    "    elif a<-2:\n",
    "        LsThMiTwo=LsThMiTwo+1\n",
    "    elif a>3:\n",
    "        GrThThree=GrThThree+1\n",
    "    elif a<-3:\n",
    "        LsThMiThree=LsThMiThree+1\n",
    "\n",
    "\n",
    "            \n",
    "from __future__ import division\n",
    "perBetw=Betw/TotalNumber\n",
    "perLsThMiOne=LsThMiOne/TotalNumber\n",
    "perGrThOne=GrThOne/TotalNumber\n",
    "perGrThTwo=GrThTwo/TotalNumber\n",
    "perLsThMiTwo=LsThMiTwo/TotalNumber\n",
    "perGrThThree=GrThThree/TotalNumber\n",
    "perLsThMiThree=LsThMiThree/TotalNumber\n",
    "\n",
    "print \"In between -1 and 1\", perBetw\n",
    "print \"less than minus one\", perLsThMiOne\n",
    "print \"Greater than one\", perGrThOne \n",
    "print \"less than minus two\", perLsThMiTwo\n",
    "print \"Greater than two\", perGrThTwo \n",
    "print \"less than minus three\", perLsThMiThree\n",
    "print \"Greater than three\", perGrThThree \n"
   ]
  },
  {
   "cell_type": "code",
   "execution_count": null,
   "metadata": {},
   "outputs": [],
   "source": []
  }
 ],
 "metadata": {
  "kernelspec": {
   "display_name": "Python 2",
   "language": "python",
   "name": "python2"
  },
  "language_info": {
   "codemirror_mode": {
    "name": "ipython",
    "version": 2
   },
   "file_extension": ".py",
   "mimetype": "text/x-python",
   "name": "python",
   "nbconvert_exporter": "python",
   "pygments_lexer": "ipython2",
   "version": "2.7.15"
  }
 },
 "nbformat": 4,
 "nbformat_minor": 2
}
