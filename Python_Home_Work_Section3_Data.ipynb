{
 "cells": [
  {
   "cell_type": "code",
   "execution_count": 1,
   "metadata": {},
   "outputs": [],
   "source": [
    "#Data \n",
    "revenue = [14574.49, 7606.46, 8611.41, 9175.41, 8058.65, 8105.44, 11496.28, 9766.09, 10305.32, 14379.96, 10713.97, 15433.50]\n",
    "expenses = [12051.82, 5695.07, 12319.20, 12089.72, 8658.57, 840.20, 3285.73, 5821.12, 6976.93, 16618.61, 10054.37, 3803.96]"
   ]
  },
  {
   "cell_type": "code",
   "execution_count": 24,
   "metadata": {},
   "outputs": [
    {
     "name": "stdout",
     "output_type": "stream",
     "text": [
      "profits of each month are [2522.67, 1911.3900000000003, -3707.790000000001, -2914.3099999999995, -599.9200000000001, 7265.24, 8210.550000000001, 3944.9700000000003, 3328.3899999999994, -2238.6500000000015, 659.5999999999985, 11629.54]\n"
     ]
    }
   ],
   "source": [
    "count=0\n",
    "profit=[]\n",
    "for i in revenue:\n",
    "    profit.append(revenue[count]-expenses[count])\n",
    "    count=count+1\n",
    "print \"profits of each month are\", profit\n"
   ]
  },
  {
   "cell_type": "code",
   "execution_count": 73,
   "metadata": {},
   "outputs": [
    {
     "name": "stdout",
     "output_type": "stream",
     "text": [
      "('bad month number', 0)\n",
      "('good month number', 1)\n",
      "('bad month number', 2)\n",
      "('bad month number', 3)\n",
      "('bad month number', 4)\n",
      "('good month number', 5)\n",
      "('good month number', 6)\n",
      "('good month number', 7)\n",
      "('good month number', 8)\n",
      "('bad month number', 9)\n",
      "('bad month number', 10)\n",
      "('good month number', 11)\n",
      "maximum profit 6999.0\n",
      "Best month 11\n",
      "minimum profit -6553.0\n",
      "Worst month 9\n",
      "profit after 30% tax cut is\n",
      "[-1850.0, -371.0, -6291.0, -5667.0, -3018.0, 4834.0, 4762.0, 1015.0, 237.0, -6553.0, -2555.0, 6999.0]\n",
      "profit margin\n",
      "[-13.0, -5.0, -73.0, -62.0, -37.0, 60.0, 41.0, 10.0, 2.0, -46.0, -24.0, 45.0]\n",
      "profit mean\n",
      "-704.833333333\n"
     ]
    }
   ],
   "source": [
    "#profit after tax\n",
    "from __future__ import division\n",
    "\n",
    "revenue_new=[]\n",
    "profit_new=[]\n",
    "profit_margin=[]\n",
    "count=0\n",
    "for i in revenue:\n",
    "    revenue_new.append(i-i*0.3)\n",
    "    profit_new.append(round(revenue_new[count]-expenses[count]))\n",
    "    profit_margin.append(round(profit_new[count]/revenue[count]*100))\n",
    "    count=count+1\n",
    "count=0\n",
    "profit_sum=0\n",
    "for i in profit_new:\n",
    "    profit_sum=profit_sum+i\n",
    "profit_mean= profit_sum/len(profit_new)\n",
    "\n",
    "count=0\n",
    "for i in profit_new:\n",
    "    if profit_new[count]>profit_mean:\n",
    "        print(\"good month number\", count)\n",
    "    else:\n",
    "        print(\"bad month number\", count)\n",
    "    count=count+1   \n",
    "Maxim_value=0\n",
    "Maxim_month=0\n",
    "Min_value=0\n",
    "Min_month=0\n",
    "count1=0\n",
    "count2=0\n",
    "for i in profit_new:\n",
    "    if profit_new[count1]>Maxim_value:\n",
    "        Maxim_value=profit_new[count1]\n",
    "        Maxim_month=count1\n",
    "    if profit_new[count2]<Min_value:\n",
    "        Min_value=profit_new[count2]\n",
    "        Min_month=count2\n",
    "    count1=count1+1\n",
    "    count2=count2+1\n",
    "print \"maximum profit\", Maxim_value\n",
    "print \"Best month\", Maxim_month\n",
    "print \"minimum profit\", Min_value\n",
    "print \"Worst month\", Min_month\n",
    "print \"profit after 30% tax cut is\\n\", profit_new\n",
    "print \"profit margin\\n\", profit_margin\n"
   ]
  },
  {
   "cell_type": "code",
   "execution_count": 29,
   "metadata": {},
   "outputs": [
    {
     "ename": "TypeError",
     "evalue": "can't multiply sequence by non-int of type 'list'",
     "output_type": "error",
     "traceback": [
      "\u001b[0;31m---------------------------------------------------------------------------\u001b[0m",
      "\u001b[0;31mTypeError\u001b[0m                                 Traceback (most recent call last)",
      "\u001b[0;32m<ipython-input-29-40f34d57aa38>\u001b[0m in \u001b[0;36m<module>\u001b[0;34m()\u001b[0m\n\u001b[0;32m----> 1\u001b[0;31m \u001b[0mrevenue\u001b[0m\u001b[0;34m[\u001b[0m\u001b[0;34m:\u001b[0m\u001b[0;34m]\u001b[0m\u001b[0;34m*\u001b[0m\u001b[0;34m[\u001b[0m\u001b[0;36m0.3\u001b[0m\u001b[0;34m]\u001b[0m\u001b[0;34m\u001b[0m\u001b[0m\n\u001b[0m",
      "\u001b[0;31mTypeError\u001b[0m: can't multiply sequence by non-int of type 'list'"
     ]
    }
   ],
   "source": [
    "revenue[:]*[0.3]"
   ]
  },
  {
   "cell_type": "code",
   "execution_count": null,
   "metadata": {},
   "outputs": [],
   "source": []
  }
 ],
 "metadata": {
  "kernelspec": {
   "display_name": "Python 2",
   "language": "python",
   "name": "python2"
  },
  "language_info": {
   "codemirror_mode": {
    "name": "ipython",
    "version": 2
   },
   "file_extension": ".py",
   "mimetype": "text/x-python",
   "name": "python",
   "nbconvert_exporter": "python",
   "pygments_lexer": "ipython2",
   "version": "2.7.15"
  }
 },
 "nbformat": 4,
 "nbformat_minor": 1
}
